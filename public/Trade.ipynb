{
 "cells": [
  {
   "cell_type": "code",
   "execution_count": 1,
   "id": "3dd1488c",
   "metadata": {},
   "outputs": [],
   "source": [
    "import requests\n",
    "from bs4 import BeautifulSoup"
   ]
  },
  {
   "cell_type": "markdown",
   "id": "e5078fd7",
   "metadata": {},
   "source": [
    "## Imports/Exports for USA"
   ]
  },
  {
   "cell_type": "code",
   "execution_count": 2,
   "id": "0d2632b4",
   "metadata": {},
   "outputs": [
    {
     "name": "stdout",
     "output_type": "stream",
     "text": [
      "Imports: 3372902\n",
      "Exports: 2062090\n"
     ]
    }
   ],
   "source": [
    "# Get the Webpage\n",
    "url = 'https://wits.worldbank.org/CountrySnapshot/en/USA'\n",
    "response = requests.get(url)\n",
    "soup = BeautifulSoup(response.text, 'html.parser')\n",
    "\n",
    "# Extract the Imports Section\n",
    "import_label = soup.find('a', title='United States  Imports (in US$ Mil) between 2017 and 2021')\n",
    "\n",
    "# Print the Imports Data\n",
    "if import_label:\n",
    "    us_import_value = import_label.find_parent('tr').find_all('td', class_='alignRight data')[0].text.strip()\n",
    "    us_import_value = int(us_import_value.replace(',', ''))\n",
    "    print(f\"Imports: {us_import_value}\")\n",
    "else: print(\"Imports label not found.\")\n",
    "\n",
    "# Extract the Exports Section\n",
    "export_label = soup.find('a', title='United States  Exports (in US$ Mil) between 2017 and 2021')\n",
    "\n",
    "# Print the Exports Data\n",
    "if export_label:\n",
    "    us_export_value = export_label.find_parent('tr').find_all('td', class_='alignRight data')[0].text.strip()\n",
    "    us_export_value = int(us_export_value.replace(',', ''))\n",
    "    print(f\"Exports: {us_export_value}\")\n",
    "else: print(\"Exports label not found.\")"
   ]
  },
  {
   "cell_type": "markdown",
   "id": "4c87a6d6",
   "metadata": {},
   "source": [
    "## Import/Exports for China"
   ]
  },
  {
   "cell_type": "code",
   "execution_count": 3,
   "id": "6764ea5d",
   "metadata": {},
   "outputs": [
    {
     "name": "stdout",
     "output_type": "stream",
     "text": [
      "Imports: 2715998\n",
      "Exports: 3593601\n"
     ]
    }
   ],
   "source": [
    "# Get the Webpage\n",
    "url = 'https://wits.worldbank.org/CountrySnapshot/en/CHN'\n",
    "response = requests.get(url)\n",
    "soup = BeautifulSoup(response.text, 'html.parser')\n",
    "\n",
    "# Extract the Imports Section\n",
    "import_label = soup.find('a', title='China  Imports (in US$ Mil) between 2017 and 2021')\n",
    "\n",
    "# Print the Imports Data\n",
    "if import_label:\n",
    "    cn_import_value = import_label.find_parent('tr').find_all('td', class_='alignRight data')[0].text.strip()\n",
    "    cn_import_value = int(cn_import_value.replace(',', ''))\n",
    "    print(f\"Imports: {cn_import_value}\")\n",
    "else: print(\"Imports Label Not Found.\")\n",
    "\n",
    "# Extract the Exports Section\n",
    "export_label = soup.find('a', title='China  Exports (in US$ Mil) between 2017 and 2021')\n",
    "\n",
    "# Print the Exports Data\n",
    "if export_label:\n",
    "    cn_export_value = export_label.find_parent('tr').find_all('td', class_='alignRight data')[0].text.strip()\n",
    "    cn_export_value = int(cn_export_value.replace(',', ''))\n",
    "    print(f\"Exports: {cn_export_value}\")\n",
    "else: print(\"Exports Label Not Found.\")"
   ]
  },
  {
   "cell_type": "markdown",
   "id": "c0fb72fa",
   "metadata": {},
   "source": [
    "## Imports/Exports Visualization"
   ]
  },
  {
   "cell_type": "code",
   "execution_count": null,
   "id": "b9f82686",
   "metadata": {},
   "outputs": [],
   "source": [
    "import matplotlib.pyplot as plt\n",
    "import numpy as np\n",
    "\n",
    "countries = ['USA', 'China']\n",
    "imports = [us_import_value, cn_import_value] \n",
    "exports = [us_export_value, cn_export_value]\n",
    "\n",
    "x = np.arange(len(countries))\n",
    "width = 0.35\n",
    "\n",
    "fig, ax = plt.subplots(figsize=(10, 6))\n",
    "bars1 = ax.bar(x - width/2, imports, width, label='Imports', color='blue')\n",
    "bars2 = ax.bar(x + width/2, exports, width, label='Exports', color='red')\n",
    "\n",
    "ax.set_xlabel('Country')\n",
    "ax.set_ylabel('Trade Value (in US$ Million)')\n",
    "ax.set_title('Imports and Exports for USA and China')\n",
    "ax.set_xticks(x)\n",
    "ax.set_xticklabels(countries)\n",
    "ax.legend()\n",
    "\n",
    "def add_labels(bars):\n",
    "    for bar in bars:\n",
    "        yval = bar.get_height()\n",
    "        ax.text(bar.get_x() + bar.get_width()/2, yval + 0.01 * yval, f'{yval:,}', ha='center', va='bottom')\n",
    "add_labels(bars1)\n",
    "add_labels(bars2)\n",
    "\n",
    "plt.tight_layout()\n",
    "plt.show()"
   ]
  },
  {
   "cell_type": "code",
   "execution_count": null,
   "id": "8ac043e5",
   "metadata": {},
   "outputs": [],
   "source": [
    "import csv\n",
    "\n",
    "# Preparing the data\n",
    "data = [\n",
    "    [\"Country\", \"Imports (in US$ Million)\", \"Exports (in US$ Million)\"],\n",
    "    [\"USA\", us_import_value, us_export_value],\n",
    "    [\"China\", cn_import_value, cn_export_value]\n",
    "]\n",
    "\n",
    "# Generating the CSV file\n",
    "csv_filename = \"us_cn_trade.csv\"\n",
    "with open(csv_filename, mode='w', newline='') as file:\n",
    "    writer = csv.writer(file)\n",
    "    writer.writerows(data)\n",
    "\n",
    "print(f\"CSV file '{csv_filename}' has been generated successfully!\")"
   ]
  },
  {
   "cell_type": "code",
   "execution_count": null,
   "id": "e867bf31",
   "metadata": {},
   "outputs": [],
   "source": [
    "import matplotlib.pyplot as plt\n",
    "from bs4 import BeautifulSoup\n",
    "\n",
    "export_html_content = \"\"\"\n",
    "<tr><td class=\"data alignRight\"><a href=\"https://wits.worldbank.org/CountryProfile/en/Country/USA/StartYear/2017/EndYear/2021/TradeFlow/Export/Indicator/XPRT-TRD-VL/Partner/WLD/Product/stages-of-processing\" title=\"United States Export (US$ Thousand) of Products by Stages of Processing to World between 2017 and 2021\">315196</a></td></tr>\n",
    "<tr><td class=\"data alignRight\"><a href=\"https://wits.worldbank.org/CountryProfile/en/Country/USA/StartYear/2017/EndYear/2021/TradeFlow/Export/Indicator/XPRT-TRD-VL/Partner/WLD/Product/stages-of-processing\" title=\"United States Export (US$ Thousand) of Products by Stages of Processing to World between 2017 and 2021\">424065</a></td></tr>\n",
    "<tr><td class=\"data alignRight\"><a href=\"https://wits.worldbank.org/CountryProfile/en/Country/USA/StartYear/2017/EndYear/2021/TradeFlow/Export/Indicator/XPRT-TRD-VL/Partner/WLD/Product/stages-of-processing\" title=\"United States Export (US$ Thousand) of Products by Stages of Processing to World between 2017 and 2021\">589746</a></td></tr>\n",
    "<tr><td class=\"data alignRight\"><a href=\"https://wits.worldbank.org/CountryProfile/en/Country/USA/StartYear/2017/EndYear/2021/TradeFlow/Export/Indicator/XPRT-TRD-VL/Partner/WLD/Product/stages-of-processing\" title=\"United States Export (US$ Thousand) of Products by Stages of Processing to World between 2017 and 2021\">575941</a></td></tr>\n",
    "\"\"\"\n",
    "\n",
    "import_html_content = \"\"\"\n",
    "<tr><td class=\"data alignRight\"><a href=\"https://wits.worldbank.org/CountryProfile/en/Country/USA/StartYear/2017/EndYear/2021/TradeFlow/Import/Indicator/XPRT-TRD-VL/Partner/WLD/Product/stages-of-processing\" title=\"United States Import (US$ Thousand) of Products by Stages of Processing to World between 2017 and 2021\">326769</a></td></tr>\n",
    "<tr><td class=\"data alignRight\"><a href=\"https://wits.worldbank.org/CountryProfile/en/Country/USA/StartYear/2017/EndYear/2021/TradeFlow/Import/Indicator/XPRT-TRD-VL/Partner/WLD/Product/stages-of-processing\" title=\"United States Import (US$ Thousand) of Products by Stages of Processing to World between 2017 and 2021\">574154</a></td></tr>\n",
    "<tr><td class=\"data alignRight\"><a href=\"https://wits.worldbank.org/CountryProfile/en/Country/USA/StartYear/2017/EndYear/2021/TradeFlow/Import/Indicator/XPRT-TRD-VL/Partner/WLD/Product/stages-of-processing\" title=\"United States Import (US$ Thousand) of Products by Stages of Processing to World between 2017 and 2021\">1224607</a></td></tr>\n",
    "<tr><td class=\"data alignRight\"><a href=\"https://wits.worldbank.org/CountryProfile/en/Country/USA/StartYear/2017/EndYear/2021/TradeFlow/Import/Indicator/XPRT-TRD-VL/Partner/WLD/Product/stages-of-processing\" title=\"United States Import (US$ Thousand) of Products by Stages of Processing to World between 2017 and 2021\">1129509</a></td></tr>\n",
    "\"\"\"\n",
    "\n",
    "def extract_values(html_content):\n",
    "    soup = BeautifulSoup(html_content, 'html.parser')\n",
    "    return [int(tag.text.replace(',', '')) for tag in soup.find_all('a')]\n",
    "\n",
    "categories = [\"Raw materials\", \"Intermediate goods\", \"Consumer goods\", \"Capital goods\"]\n",
    "export_values = extract_values(export_html_content)\n",
    "import_values = extract_values(import_html_content)\n",
    "\n",
    "data = {\n",
    "    'Category': categories,\n",
    "    'Exports': export_values,\n",
    "    'Imports': import_values\n",
    "}\n",
    "\n",
    "# Create a bar plot with corrected legend handling\n",
    "fig, ax = plt.subplots(figsize=(10, 6))\n",
    "\n",
    "# Define colors for the categories\n",
    "colors = [\"#e63946\", \"#f4a261\", \"#2a9d8f\", \"#264653\"]\n",
    "\n",
    "# Initialize bottom values for stacking\n",
    "bottom_export = 0\n",
    "bottom_import = 0\n",
    "\n",
    "# Plot each category\n",
    "for i, category in enumerate(categories):\n",
    "    # Add bars for exports and imports, using the same category label for the first bar\n",
    "    ax.bar([\"Exports\"], data['Exports'][i], bottom=bottom_export, color=colors[i], label=category)\n",
    "    ax.bar([\"Imports\"], data['Imports'][i], bottom=bottom_import, color=colors[i])\n",
    "    \n",
    "    # Update the bottom values\n",
    "    bottom_export += data['Exports'][i]\n",
    "    bottom_import += data['Imports'][i]\n",
    "\n",
    "# Set plot titles and labels\n",
    "ax.set_title('USA Exports and Imports by Category (Cumulative)')\n",
    "ax.set_ylabel('US$ Thousand')\n",
    "ax.set_xticks([0, 1])\n",
    "ax.set_xticklabels([\"Exports\", \"Imports\"])\n",
    "\n",
    "# Add the legend (ensure labels are displayed only once)\n",
    "ax.legend(title=\"Categories\", loc='upper right', bbox_to_anchor=(1.25, 1))\n",
    "\n",
    "# Tight layout for better spacing\n",
    "plt.tight_layout()\n",
    "\n",
    "# Display the plot\n",
    "plt.show()\n"
   ]
  },
  {
   "cell_type": "code",
   "execution_count": null,
   "id": "79650b61",
   "metadata": {},
   "outputs": [],
   "source": []
  }
 ],
 "metadata": {
  "kernelspec": {
   "display_name": "Python 3 (ipykernel)",
   "language": "python",
   "name": "python3"
  },
  "language_info": {
   "codemirror_mode": {
    "name": "ipython",
    "version": 3
   },
   "file_extension": ".py",
   "mimetype": "text/x-python",
   "name": "python",
   "nbconvert_exporter": "python",
   "pygments_lexer": "ipython3",
   "version": "3.11.10"
  }
 },
 "nbformat": 4,
 "nbformat_minor": 5
}
